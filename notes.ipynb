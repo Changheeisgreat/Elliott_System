{
 "cells": [
  {
   "cell_type": "code",
   "execution_count": 1,
   "id": "maritime-institution",
   "metadata": {},
   "outputs": [],
   "source": [
    "import os"
   ]
  },
  {
   "cell_type": "code",
   "execution_count": 2,
   "id": "based-handy",
   "metadata": {},
   "outputs": [
    {
     "data": {
      "text/plain": [
       "'/Users/changheehan/Documents/Code/2022_Elloitt_project/data/btcusd.csv'"
      ]
     },
     "execution_count": 2,
     "metadata": {},
     "output_type": "execute_result"
    }
   ],
   "source": [
    "os.path.join(os.getcwd(),'data/btcusd.csv')"
   ]
  },
  {
   "cell_type": "code",
   "execution_count": null,
   "id": "pediatric-coverage",
   "metadata": {},
   "outputs": [],
   "source": []
  }
 ],
 "metadata": {
  "kernelspec": {
   "display_name": "Python 3",
   "language": "python",
   "name": "python3"
  },
  "language_info": {
   "codemirror_mode": {
    "name": "ipython",
    "version": 3
   },
   "file_extension": ".py",
   "mimetype": "text/x-python",
   "name": "python",
   "nbconvert_exporter": "python",
   "pygments_lexer": "ipython3",
   "version": "3.7.10"
  }
 },
 "nbformat": 4,
 "nbformat_minor": 5
}
